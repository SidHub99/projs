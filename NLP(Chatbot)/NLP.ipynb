{
 "cells": [
  {
   "cell_type": "code",
   "execution_count": 1,
   "metadata": {},
   "outputs": [],
   "source": [
    "import os\n",
    "import numpy as np"
   ]
  },
  {
   "cell_type": "code",
   "execution_count": 17,
   "metadata": {},
   "outputs": [],
   "source": [
    "imdb=r\"C:\\Users\\User\\Downloads\\imdb\\aclImdb\"\n",
    "train=os.path.join(imdb,'train')\n",
    "labels=[]\n",
    "texts=[]\n",
    "\n",
    "for label_type in ['neg','pos']:\n",
    "    dir_name=os.path.join(train,label_type)\n",
    "    for fname in os.listdir(dir_name):\n",
    "        if fname[-4:] == '.txt':\n",
    "            f=open(os.path.join(dir_name,fname),encoding=\"utf-8\")\n",
    "            texts.append(f.read())\n",
    "            f.close()\n",
    "            if label_type == 'neg':\n",
    "                labels.append(0)\n",
    "            else:\n",
    "                labels.append(1)\n"
   ]
  },
  {
   "cell_type": "code",
   "execution_count": 18,
   "metadata": {},
   "outputs": [],
   "source": [
    "from keras.preprocessing.text import Tokenizer\n",
    "from keras.utils import pad_sequences\n"
   ]
  },
  {
   "cell_type": "code",
   "execution_count": 19,
   "metadata": {},
   "outputs": [],
   "source": [
    "maxlen=100\n",
    "training=500\n",
    "validation=10000\n",
    "maxwords=10000\n",
    "\n",
    "tokenizer= Tokenizer(num_words=maxwords)\n",
    "tokenizer.fit_on_texts(texts)\n",
    "sequences=tokenizer.texts_to_sequences(texts)"
   ]
  },
  {
   "cell_type": "code",
   "execution_count": 20,
   "metadata": {},
   "outputs": [
    {
     "name": "stdout",
     "output_type": "stream",
     "text": [
      "Data (17243, 100)\n",
      "(17243,)\n"
     ]
    }
   ],
   "source": [
    "word_index=tokenizer.word_index\n",
    "data =pad_sequences(sequences,maxlen=maxlen)\n",
    "labels =np.asarray(labels)\n",
    "print(\"Data\",data.shape)\n",
    "print(labels.shape)"
   ]
  },
  {
   "cell_type": "code",
   "execution_count": 21,
   "metadata": {},
   "outputs": [],
   "source": [
    "indicies=np.arange(data.shape[0])\n",
    "np.random.shuffle(indicies)\n",
    "data= data[indicies]\n"
   ]
  },
  {
   "cell_type": "code",
   "execution_count": 22,
   "metadata": {},
   "outputs": [],
   "source": [
    "labels=labels[indicies]\n",
    "x_train = data[:training]\n",
    "y_train = labels[:training]\n",
    "x_val = data[training: training + validation]\n",
    "y_val = labels[training: training + validation]"
   ]
  },
  {
   "cell_type": "code",
   "execution_count": 10,
   "metadata": {},
   "outputs": [
    {
     "name": "stdout",
     "output_type": "stream",
     "text": [
      "(500, 100)\n",
      "(500,)\n"
     ]
    }
   ],
   "source": [
    "print(x_train.shape)\n",
    "print(y_train.shape)"
   ]
  },
  {
   "cell_type": "code",
   "execution_count": 8,
   "metadata": {},
   "outputs": [
    {
     "data": {
      "text/plain": [
       "<function TextIOWrapper.close()>"
      ]
     },
     "execution_count": 8,
     "metadata": {},
     "output_type": "execute_result"
    }
   ],
   "source": [
    "\n",
    "glove=r'C:\\Users\\User\\Downloads\\gloves'\n",
    "embedding_Index={}\n",
    "f=open(os.path.join(glove,'glove.6B.100d.txt'),encoding=\"utf-8\")\n",
    "for line in f:\n",
    "    values=line.split()\n",
    "    words=values[0]\n",
    "    coefs=np.asarray(values[1:],dtype=\"float32\")\n",
    "    embedding_Index[words] = coefs\n",
    "f.close"
   ]
  },
  {
   "cell_type": "code",
   "execution_count": 9,
   "metadata": {},
   "outputs": [],
   "source": [
    "embedding_dim= 100\n",
    "embedding_matrix=np.zeros((maxwords,embedding_dim))\n",
    "for word,i in word_index.items():\n",
    "    if i < maxwords:\n",
    "        embedding_vector=embedding_Index.get(word)\n",
    "        if embedding_vector is not None:\n",
    "            embedding_matrix[i]=embedding_vector"
   ]
  },
  {
   "cell_type": "code",
   "execution_count": 10,
   "metadata": {},
   "outputs": [],
   "source": [
    "from keras.models import Sequential\n",
    "from keras.layers import Embedding ,Flatten , Dense\n"
   ]
  },
  {
   "cell_type": "code",
   "execution_count": 13,
   "metadata": {},
   "outputs": [
    {
     "name": "stdout",
     "output_type": "stream",
     "text": [
      "Model: \"sequential_2\"\n",
      "_________________________________________________________________\n",
      " Layer (type)                Output Shape              Param #   \n",
      "=================================================================\n",
      " embedding_2 (Embedding)     (None, 100, 100)          1000000   \n",
      "                                                                 \n",
      " flatten_1 (Flatten)         (None, 10000)             0         \n",
      "                                                                 \n",
      " dense_1 (Dense)             (None, 32)                320032    \n",
      "                                                                 \n",
      " dense_2 (Dense)             (None, 1)                 33        \n",
      "                                                                 \n",
      "=================================================================\n",
      "Total params: 1,320,065\n",
      "Trainable params: 1,320,065\n",
      "Non-trainable params: 0\n",
      "_________________________________________________________________\n"
     ]
    }
   ],
   "source": [
    "model=Sequential()\n",
    "model.add(Embedding(maxwords,embedding_dim,input_length=maxlen))\n",
    "model.add(Flatten())\n",
    "model.add(Dense(32,activation='relu'))\n",
    "model.add(Dense(1,activation='sigmoid'))\n",
    "model.summary()"
   ]
  },
  {
   "cell_type": "code",
   "execution_count": 14,
   "metadata": {},
   "outputs": [],
   "source": [
    "model.layers[0].set_weights([embedding_matrix])\n",
    "model.layers[0].trainable=False"
   ]
  },
  {
   "cell_type": "code",
   "execution_count": 16,
   "metadata": {},
   "outputs": [
    {
     "name": "stdout",
     "output_type": "stream",
     "text": [
      "Epoch 1/10\n",
      "16/16 [==============================] - 4s 181ms/step - loss: 1.0065 - acc: 0.6000 - val_loss: 0.5891 - val_acc: 0.7266\n",
      "Epoch 2/10\n",
      "16/16 [==============================] - 2s 146ms/step - loss: 0.5424 - acc: 0.7620 - val_loss: 0.6004 - val_acc: 0.7017\n",
      "Epoch 3/10\n",
      "16/16 [==============================] - 3s 170ms/step - loss: 0.4292 - acc: 0.8060 - val_loss: 0.5915 - val_acc: 0.7066\n",
      "Epoch 4/10\n",
      "16/16 [==============================] - 2s 155ms/step - loss: 0.3240 - acc: 0.8780 - val_loss: 0.8518 - val_acc: 0.7297\n",
      "Epoch 5/10\n",
      "16/16 [==============================] - 2s 150ms/step - loss: 0.2699 - acc: 0.9060 - val_loss: 0.6277 - val_acc: 0.7266\n",
      "Epoch 6/10\n",
      "16/16 [==============================] - 2s 144ms/step - loss: 0.2032 - acc: 0.9460 - val_loss: 0.6203 - val_acc: 0.7096\n",
      "Epoch 7/10\n",
      "16/16 [==============================] - 2s 130ms/step - loss: 0.1830 - acc: 0.9360 - val_loss: 0.6377 - val_acc: 0.7009\n",
      "Epoch 8/10\n",
      "16/16 [==============================] - 2s 116ms/step - loss: 0.0463 - acc: 1.0000 - val_loss: 0.8521 - val_acc: 0.7296\n",
      "Epoch 9/10\n",
      "16/16 [==============================] - 2s 138ms/step - loss: 0.1416 - acc: 0.9560 - val_loss: 0.9293 - val_acc: 0.7301\n",
      "Epoch 10/10\n",
      "16/16 [==============================] - 2s 138ms/step - loss: 0.0233 - acc: 1.0000 - val_loss: 0.7554 - val_acc: 0.7192\n"
     ]
    }
   ],
   "source": [
    "model.compile(optimizer='rmsprop',loss='binary_crossentropy',\n",
    "              metrics=['acc'])\n",
    "history=model.fit(x_train,y_train,epochs=10,batch_size=32,\n",
    "                  validation_data=(x_val,y_val))\n",
    "model.save_weights('pre_trained_glove_model.h5')"
   ]
  },
  {
   "cell_type": "code",
   "execution_count": 17,
   "metadata": {},
   "outputs": [
    {
     "data": {
      "image/png": "[encoded data removed]",
      "text/plain": [
       "<Figure size 640x480 with 1 Axes>"
      ]
     },
     "metadata": {},
     "output_type": "display_data"
    },
    {
     "data": {
      "image/png": "[encoded data removed]",
      "text/plain": [
       "<Figure size 640x480 with 1 Axes>"
      ]
     },
     "metadata": {},
     "output_type": "display_data"
    }
   ],
   "source": [
    "import matplotlib.pyplot as plt\n",
    "acc = history.history['acc']\n",
    "val_acc = history.history['val_acc']\n",
    "loss = history.history['loss']\n",
    "val_loss = history.history['val_loss']\n",
    "epochs = range(1, len(acc) + 1)\n",
    "plt.plot(epochs, acc, 'bo', label='Training acc')\n",
    "plt.plot(epochs, val_acc, 'b', label='Validation acc')\n",
    "plt.title('Training and validation accuracy')\n",
    "plt.legend()\n",
    "plt.figure()\n",
    "plt.plot(epochs, loss, 'bo', label='Training loss')\n",
    "plt.plot(epochs, val_loss, 'b', label='Validation loss')\n",
    "plt.title('Training and validation loss')\n",
    "plt.legend()\n",
    "plt.show()"
   ]
  },
  {
   "cell_type": "code",
   "execution_count": null,
   "metadata": {},
   "outputs": [],
   "source": []
  }
 ],
 "metadata": {
  "kernelspec": {
   "display_name": "Python 3",
   "language": "python",
   "name": "python3"
  },
  "language_info": {
   "codemirror_mode": {
    "name": "ipython",
    "version": 3
   },
   "file_extension": ".py",
   "mimetype": "text/x-python",
   "name": "python",
   "nbconvert_exporter": "python",
   "pygments_lexer": "ipython3",
   "version": "3.10.11"
  },
  "orig_nbformat": 4
 },
 "nbformat": 4,
 "nbformat_minor": 2
}
